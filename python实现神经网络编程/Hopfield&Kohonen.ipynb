{
 "cells": [
  {
   "cell_type": "markdown",
   "metadata": {},
   "source": [
    "### Hopfield网络"
   ]
  },
  {
   "cell_type": "code",
   "execution_count": 1,
   "metadata": {},
   "outputs": [],
   "source": [
    "import numpy as np\n",
    "def kroneckerSquareProduct(self,factor):#计算克罗内克积\n",
    "    ksProduct =np.zero((self.N,self.N),dtype=np.float32)\n",
    "    for i in xrange(0,self.N):\n",
    "        ksProduct[i] =factor[i]*factor\n",
    "    return ksProduct\n",
    "def do_train(self,inputArray):\n",
    "    mean =float(inputArray.sum())/inputArray.shape[0]\n",
    "    self.W =self.W+self.kroneckerSquareProduct(inputArray -mean)/(self.N*self.N)/mean/(1-mean)\n",
    "    def hopRun(self,inputList):\n",
    "        inputArray =np.asarray(inputList,dtype=np.float32)\n",
    "        matrix =np.tile(inputArray,(self.N,1))\n",
    "        matrix =self.W*matrix\n",
    "        outputArray =matrix.sum(1)\n",
    "        m=float(np.amin(outputArray))\n",
    "        M=float(np.amax(outputArray))\n",
    "        outputArray[outputArray<0.5]=0.#当归一化后和小于0.5时，点阵节点设置为0，否则设置为1\n",
    "        outputArray[outputArray>0]=1\n",
    "        return np.asarray(outputArray,dtype=np.uint8)"
   ]
  },
  {
   "cell_type": "markdown",
   "metadata": {},
   "source": [
    "### Kohonen网络"
   ]
  },
  {
   "cell_type": "code",
   "execution_count": 10,
   "metadata": {},
   "outputs": [
    {
     "ename": "ImportError",
     "evalue": "cannot import name 'Minisom' from 'minisom' (D:\\software\\Aconda3\\envs\\tensorflow\\lib\\site-packages\\minisom.py)",
     "output_type": "error",
     "traceback": [
      "\u001b[1;31m---------------------------------------------------------------------------\u001b[0m",
      "\u001b[1;31mImportError\u001b[0m                               Traceback (most recent call last)",
      "\u001b[1;32m<ipython-input-10-ee84b192fd7a>\u001b[0m in \u001b[0;36m<module>\u001b[1;34m\u001b[0m\n\u001b[1;32m----> 1\u001b[1;33m \u001b[1;32mfrom\u001b[0m \u001b[0mminisom\u001b[0m \u001b[1;32mimport\u001b[0m \u001b[0mMinisom\u001b[0m\u001b[1;33m\u001b[0m\u001b[1;33m\u001b[0m\u001b[0m\n\u001b[0m\u001b[0;32m      2\u001b[0m \u001b[1;32mimport\u001b[0m \u001b[0mnumpy\u001b[0m \u001b[1;32mas\u001b[0m \u001b[0mnp\u001b[0m\u001b[1;33m\u001b[0m\u001b[1;33m\u001b[0m\u001b[0m\n\u001b[0;32m      3\u001b[0m \u001b[1;32mimport\u001b[0m \u001b[0mmatplotlib\u001b[0m\u001b[1;33m.\u001b[0m\u001b[0mpyplot\u001b[0m \u001b[1;32mas\u001b[0m \u001b[0mplt\u001b[0m\u001b[1;33m\u001b[0m\u001b[1;33m\u001b[0m\u001b[0m\n\u001b[0;32m      4\u001b[0m \u001b[0mimg\u001b[0m\u001b[1;33m=\u001b[0m\u001b[0mplt\u001b[0m\u001b[1;33m.\u001b[0m\u001b[0mimread\u001b[0m\u001b[1;33m(\u001b[0m\u001b[1;34m'mitaocat.jpg'\u001b[0m\u001b[1;33m)\u001b[0m\u001b[1;33m\u001b[0m\u001b[1;33m\u001b[0m\u001b[0m\n\u001b[0;32m      5\u001b[0m \u001b[0mpiexels\u001b[0m \u001b[1;33m=\u001b[0m\u001b[0mnp\u001b[0m\u001b[1;33m.\u001b[0m\u001b[0mreshape\u001b[0m\u001b[1;33m(\u001b[0m\u001b[0mimg\u001b[0m\u001b[1;33m,\u001b[0m\u001b[1;33m(\u001b[0m\u001b[0mimg\u001b[0m\u001b[1;33m.\u001b[0m\u001b[0mshape\u001b[0m\u001b[1;33m[\u001b[0m\u001b[1;36m0\u001b[0m\u001b[1;33m]\u001b[0m\u001b[1;33m*\u001b[0m\u001b[0mimg\u001b[0m\u001b[1;33m.\u001b[0m\u001b[0mshape\u001b[0m\u001b[1;33m[\u001b[0m\u001b[1;36m1\u001b[0m\u001b[1;33m]\u001b[0m\u001b[1;33m,\u001b[0m\u001b[1;36m3\u001b[0m\u001b[1;33m)\u001b[0m\u001b[1;33m)\u001b[0m\u001b[1;33m\u001b[0m\u001b[1;33m\u001b[0m\u001b[0m\n",
      "\u001b[1;31mImportError\u001b[0m: cannot import name 'Minisom' from 'minisom' (D:\\software\\Aconda3\\envs\\tensorflow\\lib\\site-packages\\minisom.py)"
     ]
    }
   ],
   "source": [
    "from minisom import Minisom\n",
    "import numpy as np\n",
    "import matplotlib.pyplot as plt\n",
    "img=plt.imread('mitaocat.jpg')\n",
    "piexels =np.reshape(img,(img.shape[0]*img.shape[1],3))\n",
    "som =Minisom(3,3,3,sigma=0.1,learning_rate=0.2)\n",
    "som.random_weights_init(piexels)\n",
    "starting_wegihts=som.get_weights().copy()\n",
    "som.train_random(pixels,100)\n",
    "qnt =som.quantization(pixels)\n",
    "clustered =np.zeros(img.shape)\n",
    "for i,q in enumerate(qnt):\n",
    "    clustered[np.unravel_index(i,dims=(img.shape[0],img.shape[1]))]=q\n",
    "plt.figure(1)\n",
    "plt.subplot(221)\n",
    "plt.title('original')\n",
    "plt.imshow(img)\n",
    "plt.title('result')\n",
    "plt.imshow(clustered)\n",
    "plt.subplot(223)\n",
    "plt.title('initial colors')\n",
    "plt.imshow(starting_weights,interpolation='none')\n",
    "plt.subplot(224)\n",
    "plt.title('learned colors')\n",
    "plt.imshow(som.get_weights(),interpolation='none')\n",
    "plt.tight_layout()\n",
    "plt.show()"
   ]
  },
  {
   "cell_type": "code",
   "execution_count": null,
   "metadata": {},
   "outputs": [],
   "source": []
  }
 ],
 "metadata": {
  "kernelspec": {
   "display_name": "Python 3",
   "language": "python",
   "name": "python3"
  },
  "language_info": {
   "codemirror_mode": {
    "name": "ipython",
    "version": 3
   },
   "file_extension": ".py",
   "mimetype": "text/x-python",
   "name": "python",
   "nbconvert_exporter": "python",
   "pygments_lexer": "ipython3",
   "version": "3.7.7"
  }
 },
 "nbformat": 4,
 "nbformat_minor": 4
}
